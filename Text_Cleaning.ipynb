{
 "cells": [
  {
   "cell_type": "code",
   "execution_count": 1,
   "metadata": {},
   "outputs": [],
   "source": [
    "# Task Description\n",
    "# 1. Create an algorithm which can clean the texts and store the lemmatized and stemmed descriptions\n",
    "\n",
    "# Tips that I have learnt generally working with text data.\n",
    "# 1. don't drop null values, always subset them. Sometimes we might lose on valuable information from other columns\n",
    "# 2. use lambda when the manipulaiton involves only one column. It is works faster than traditional loops\n",
    "# 3. Don't stik with lemmatization or stemming. Have both and check the performace of algortihm as see which one underfits and which one overfits"
   ]
  },
  {
   "cell_type": "code",
   "execution_count": 1,
   "metadata": {},
   "outputs": [
    {
     "name": "stderr",
     "output_type": "stream",
     "text": [
      "[nltk_data] Downloading package wordnet to\n",
      "[nltk_data]     C:\\Users\\31376\\AppData\\Roaming\\nltk_data...\n",
      "[nltk_data]   Package wordnet is already up-to-date!\n"
     ]
    },
    {
     "data": {
      "text/plain": [
       "True"
      ]
     },
     "execution_count": 1,
     "metadata": {},
     "output_type": "execute_result"
    }
   ],
   "source": [
    "# importing the necessary header files\n",
    "import pandas as pd\n",
    "import numpy as np\n",
    "import datetime\n",
    "# This is the option used change the default number of columns displayed on the screen\n",
    "pd.set_option('display.max_columns', 500)\n",
    "\n",
    "import nltk\n",
    "import re\n",
    "from nltk.corpus import stopwords\n",
    "stop_words = stopwords.words('english')\n",
    "from nltk import word_tokenize\n",
    "from nltk.stem import WordNetLemmatizer\n",
    "from nltk.stem import PorterStemmer\n",
    "lemmatizer = WordNetLemmatizer()\n",
    "stemmer = PorterStemmer()\n",
    "nltk.download('wordnet')"
   ]
  },
  {
   "cell_type": "code",
   "execution_count": 2,
   "metadata": {},
   "outputs": [],
   "source": [
    "# functions\n",
    "\n",
    "#function to do the basic cleaning\n",
    "def basic_clean(bclean_data):\n",
    "    bclean_data = bclean_data[bclean_data.iloc[:,0] != 'na'] \n",
    "    bclean_data = bclean_data[bclean_data.iloc[:,1] != 'na'] # Line 5 and 6 subsets the data from null values.\n",
    "    col_name = bclean_data.columns[1]\n",
    "    bclean_data = bclean_data.drop_duplicates(subset=[col_name], keep='first') # Removing duplcates based on the column ID 1\n",
    "    bclean_data = data_clean(bclean_data) # Calls the data_clean function\n",
    "    return bclean_data\n",
    "\n",
    "    \n",
    "# functions that will perform lemmatization and stemming\n",
    "def lemmatize_text(text):\n",
    "    return \" \".join([lemmatizer.lemmatize(w) for w in word_tokenize(text)])\n",
    "\n",
    "def stem_text(text):\n",
    "    return \" \".join([stemmer.stem(w) for w in word_tokenize(text)])\n",
    "\n",
    "\n",
    "# function that will clean the data\n",
    "def data_clean(clean_data):\n",
    "    clean_data.iloc[:,1] = clean_data.iloc[:,1].apply(lambda x: str(x).lower()) # Converts the text to lower\n",
    "    clean_data[\"Title\"] = clean_data.iloc[:,1].apply(lambda x: re.sub(r'[^\\w\\s]', ' ', x)) # removes special characters\n",
    "    clean_data[\"Title\"] = clean_data[\"Title\"].apply(lambda x: ''.join([i for i in x if not i.isdigit()])) # removes digits\n",
    "    clean_data[\"Title\"] = clean_data[\"Title\"].apply(lambda x: ' '.join(x.split())) # Removes unwanted whitespaces in between\n",
    "    clean_data[\"Title\"] = clean_data[\"Title\"].apply(lambda x: word_tokenize(x)) # Tokenization is where the texts are converted to list\n",
    "    clean_data[\"Title\"] = clean_data[\"Title\"].apply(lambda x: [y for y in x if y not in stop_words]) # from the converted list the stopwords are removed\n",
    "    clean_data[\"Title\"] = clean_data[\"Title\"].apply(lambda x: \" \".join(x)) \n",
    "    clean_data[\"Lem_Title\"] = clean_data[\"Title\"].apply(lambda x: lemmatize_text(x)) # function that lemmatizes the text \n",
    "    clean_data[\"Stem_Title\"] = clean_data[\"Title\"].apply(lambda x: stem_text(x)) # function that stems the text \n",
    "    return clean_data"
   ]
  }
 ],
 "metadata": {
  "kernelspec": {
   "display_name": "Python 3",
   "language": "python",
   "name": "python3"
  },
  "language_info": {
   "codemirror_mode": {
    "name": "ipython",
    "version": 3
   },
   "file_extension": ".py",
   "mimetype": "text/x-python",
   "name": "python",
   "nbconvert_exporter": "python",
   "pygments_lexer": "ipython3",
   "version": "3.7.6"
  }
 },
 "nbformat": 4,
 "nbformat_minor": 4
}
